{
 "cells": [
  {
   "cell_type": "markdown",
   "metadata": {},
   "source": [
    "Evolución de los Precios de la Electricidad\n",
    "==="
   ]
  },
  {
   "cell_type": "markdown",
   "metadata": {},
   "source": [
    "# Instrucciones"
   ]
  },
  {
   "cell_type": "markdown",
   "metadata": {},
   "source": [
    "En el archivo `precios.zip`  se encuentran los archivos `Precio_Bolsa_Nacional_($kwh)_ano.xls` en formato de Microsoft Excel, los cuales contienen los precios históricos horarios de la electricidad para el mercado eléctrico Colombiano entre los años 1995 y 2017 en COL-PESOS/kWh. A partir de la información suministrada realice las siguientes actividades. "
   ]
  },
  {
   "cell_type": "markdown",
   "metadata": {},
   "source": [
    "**1.--** Lea los archivos y cree una tabla única concatenando la información para cada uno de los años. Debe transformar la tabla de tal forma que quede con las columnas `Fecha`, `Hora` y `Precio` (únicamente tres columnas)."
   ]
  },
  {
   "cell_type": "code",
   "execution_count": 15,
   "metadata": {},
   "outputs": [],
   "source": [
    "import matplotlib.pyplot as plt\n",
    "import matplotlib as mpl\n",
    "import pandas as pd\n",
    "import numpy as np\n",
    "import datetime as dt\n",
    "import glob\n",
    "\n",
    "%matplotlib inline"
   ]
  },
  {
   "cell_type": "code",
   "execution_count": 2,
   "metadata": {},
   "outputs": [],
   "source": [
    "def leer_precios(filename):\n",
    "    for k in range(10):\n",
    "        df = pd.read_excel(filename,\n",
    "                           skiprows = k,\n",
    "                           usecols = list(range(25)))\n",
    "        if df.iloc[0,0] == 'Fecha':\n",
    "            df = pd.read_excel(filename,\n",
    "                               skiprows = k+1,\n",
    "                               usecols = list(range(25)))\n",
    "            break        \n",
    "    return(df)"
   ]
  },
  {
   "cell_type": "code",
   "execution_count": 3,
   "metadata": {},
   "outputs": [
    {
     "data": {
      "text/plain": [
       "['precios/Precio_Bolsa_Nacional_($kwh)_1995.xlsx',\n",
       " 'precios/Precio_Bolsa_Nacional_($kwh)_1996.xlsx',\n",
       " 'precios/Precio_Bolsa_Nacional_($kwh)_1997.xlsx',\n",
       " 'precios/Precio_Bolsa_Nacional_($kwh)_1998.xlsx',\n",
       " 'precios/Precio_Bolsa_Nacional_($kwh)_1999.xlsx',\n",
       " 'precios/Precio_Bolsa_Nacional_($kwh)_2000.xlsx',\n",
       " 'precios/Precio_Bolsa_Nacional_($kwh)_2001.xlsx',\n",
       " 'precios/Precio_Bolsa_Nacional_($kwh)_2002.xlsx',\n",
       " 'precios/Precio_Bolsa_Nacional_($kwh)_2003.xlsx',\n",
       " 'precios/Precio_Bolsa_Nacional_($kwh)_2004.xlsx',\n",
       " 'precios/Precio_Bolsa_Nacional_($kwh)_2005.xlsx',\n",
       " 'precios/Precio_Bolsa_Nacional_($kwh)_2006.xlsx',\n",
       " 'precios/Precio_Bolsa_Nacional_($kwh)_2007.xlsx',\n",
       " 'precios/Precio_Bolsa_Nacional_($kwh)_2008.xlsx',\n",
       " 'precios/Precio_Bolsa_Nacional_($kwh)_2009.xlsx',\n",
       " 'precios/Precio_Bolsa_Nacional_($kwh)_2010.xlsx',\n",
       " 'precios/Precio_Bolsa_Nacional_($kwh)_2011.xlsx',\n",
       " 'precios/Precio_Bolsa_Nacional_($kwh)_2012.xlsx',\n",
       " 'precios/Precio_Bolsa_Nacional_($kwh)_2013.xlsx',\n",
       " 'precios/Precio_Bolsa_Nacional_($kwh)_2014.xlsx',\n",
       " 'precios/Precio_Bolsa_Nacional_($kwh)_2015.xlsx',\n",
       " 'precios/Precio_Bolsa_Nacional_($kwh)_2016.xls',\n",
       " 'precios/Precio_Bolsa_Nacional_($kwh)_2017.xls',\n",
       " 'precios/Precio_Bolsa_Nacional_($kwh)_2018.xls']"
      ]
     },
     "execution_count": 3,
     "metadata": {},
     "output_type": "execute_result"
    }
   ],
   "source": [
    "filenames = !ls precios/*.xls*\n",
    "filenames"
   ]
  },
  {
   "cell_type": "code",
   "execution_count": 4,
   "metadata": {},
   "outputs": [
    {
     "data": {
      "text/plain": [
       "210225"
      ]
     },
     "execution_count": 4,
     "metadata": {},
     "output_type": "execute_result"
    }
   ],
   "source": [
    "dfs = []\n",
    "for filename in filenames:\n",
    "    dfs.append(leer_precios(filename))\n",
    "dfs= pd.concat(dfs, sort=True)\n",
    "dfs.size"
   ]
  },
  {
   "cell_type": "code",
   "execution_count": 5,
   "metadata": {},
   "outputs": [
    {
     "data": {
      "text/plain": [
       "(8409, 25)"
      ]
     },
     "execution_count": 5,
     "metadata": {},
     "output_type": "execute_result"
    }
   ],
   "source": [
    "dfs.shape"
   ]
  },
  {
   "cell_type": "code",
   "execution_count": 6,
   "metadata": {},
   "outputs": [],
   "source": [
    "pvt = pd.melt(dfs,id_vars='Fecha',value_name ='Precio', var_name ='Hora')"
   ]
  },
  {
   "cell_type": "markdown",
   "metadata": {},
   "source": [
    "**2.--** Compute e imprima el número de registros con datos faltantes."
   ]
  },
  {
   "cell_type": "code",
   "execution_count": 16,
   "metadata": {},
   "outputs": [],
   "source": [
    "dos = pvt.isnull().sum(axis = 1)"
   ]
  },
  {
   "cell_type": "code",
   "execution_count": 17,
   "metadata": {},
   "outputs": [
    {
     "data": {
      "text/plain": [
       "238"
      ]
     },
     "execution_count": 17,
     "metadata": {},
     "output_type": "execute_result"
    }
   ],
   "source": [
    "dos[dos > 0].count() "
   ]
  },
  {
   "cell_type": "markdown",
   "metadata": {},
   "source": [
    "**3.--** Compute e imprima el número de registros duplicados."
   ]
  },
  {
   "cell_type": "code",
   "execution_count": 19,
   "metadata": {},
   "outputs": [
    {
     "data": {
      "text/plain": [
       "1951"
      ]
     },
     "execution_count": 19,
     "metadata": {},
     "output_type": "execute_result"
    }
   ],
   "source": [
    "tres = pvt.copy()\n",
    "tres = tres.drop_duplicates()\n",
    "dup =  len(pvt.index) - len(tres.index)\n",
    "dup"
   ]
  },
  {
   "cell_type": "markdown",
   "metadata": {},
   "source": [
    "**4.--** Elimine los registros con datos duplicados o datos faltantes, e imprima la cantidad de registros que quedan (registros completos)."
   ]
  },
  {
   "cell_type": "code",
   "execution_count": 20,
   "metadata": {},
   "outputs": [
    {
     "data": {
      "text/plain": [
       "199819"
      ]
     },
     "execution_count": 20,
     "metadata": {},
     "output_type": "execute_result"
    }
   ],
   "source": [
    "cuatro = pvt.copy()\n",
    "cuatro = (cuatro.drop_duplicates())\n",
    "cuatro = cuatro.dropna()\n",
    "len(cuatro.index)"
   ]
  },
  {
   "cell_type": "markdown",
   "metadata": {},
   "source": [
    "**5.--** Compute y grafique el precio primedio diario."
   ]
  },
  {
   "cell_type": "code",
   "execution_count": 26,
   "metadata": {},
   "outputs": [],
   "source": [
    "cinco = cuatro.copy()"
   ]
  },
  {
   "cell_type": "code",
   "execution_count": 27,
   "metadata": {},
   "outputs": [],
   "source": [
    "cinco['dia'] = pd.DatetimeIndex(cinco['Fecha']).day\n",
    "cinco['mes'] = pd.DatetimeIndex(cinco['Fecha']).month"
   ]
  },
  {
   "cell_type": "code",
   "execution_count": 28,
   "metadata": {},
   "outputs": [],
   "source": [
    "aux = cinco.groupby('dia')['Precio'].mean()"
   ]
  },
  {
   "cell_type": "code",
   "execution_count": 29,
   "metadata": {},
   "outputs": [
    {
     "data": {
      "text/plain": [
       "<matplotlib.axes._subplots.AxesSubplot at 0x7fdb87ea0160>"
      ]
     },
     "execution_count": 29,
     "metadata": {},
     "output_type": "execute_result"
    },
    {
     "data": {
      "image/png": "[encoded data removed]",
      "text/plain": [
       "<Figure size 432x288 with 1 Axes>"
      ]
     },
     "metadata": {
      "needs_background": "light"
     },
     "output_type": "display_data"
    }
   ],
   "source": [
    "aux.plot(kind=\"bar\")"
   ]
  },
  {
   "cell_type": "markdown",
   "metadata": {},
   "source": [
    "**6.--** Compute y grafique el precio máximo por mes."
   ]
  },
  {
   "cell_type": "code",
   "execution_count": 30,
   "metadata": {},
   "outputs": [],
   "source": [
    "aux = cinco.groupby('mes')['Precio'].max()"
   ]
  },
  {
   "cell_type": "code",
   "execution_count": 31,
   "metadata": {},
   "outputs": [
    {
     "data": {
      "text/plain": [
       "<matplotlib.axes._subplots.AxesSubplot at 0x7fdb87f23400>"
      ]
     },
     "execution_count": 31,
     "metadata": {},
     "output_type": "execute_result"
    },
    {
     "data": {
      "image/png": "[encoded data removed]",
      "text/plain": [
       "<Figure size 432x288 with 1 Axes>"
      ]
     },
     "metadata": {
      "needs_background": "light"
     },
     "output_type": "display_data"
    }
   ],
   "source": [
    "aux.plot(kind=\"bar\")"
   ]
  },
  {
   "cell_type": "markdown",
   "metadata": {},
   "source": [
    "**7.--** Compute y grafique el precio mínimo mensual."
   ]
  },
  {
   "cell_type": "code",
   "execution_count": 32,
   "metadata": {},
   "outputs": [],
   "source": [
    "aux = cinco.groupby('mes')['Precio'].min()"
   ]
  },
  {
   "cell_type": "code",
   "execution_count": 33,
   "metadata": {},
   "outputs": [
    {
     "data": {
      "text/plain": [
       "<matplotlib.axes._subplots.AxesSubplot at 0x7fdb84f11dd8>"
      ]
     },
     "execution_count": 33,
     "metadata": {},
     "output_type": "execute_result"
    },
    {
     "data": {
      "image/png": "[encoded data removed]",
      "text/plain": [
       "<Figure size 432x288 with 1 Axes>"
      ]
     },
     "metadata": {
      "needs_background": "light"
     },
     "output_type": "display_data"
    }
   ],
   "source": [
    "aux.plot(kind=\"bar\")"
   ]
  },
  {
   "cell_type": "markdown",
   "metadata": {},
   "source": [
    "**8.--** Haga un gráfico para comparar el precio máximo del mes (para cada mes) y el precio promedio mensual."
   ]
  },
  {
   "cell_type": "code",
   "execution_count": 34,
   "metadata": {},
   "outputs": [],
   "source": [
    "aux = cinco.groupby('mes')['Precio'].max()"
   ]
  },
  {
   "cell_type": "code",
   "execution_count": 35,
   "metadata": {},
   "outputs": [],
   "source": [
    "aux2 = cinco.groupby('mes')['Precio'].mean()"
   ]
  },
  {
   "cell_type": "code",
   "execution_count": 36,
   "metadata": {},
   "outputs": [
    {
     "data": {
      "text/plain": [
       "<matplotlib.axes._subplots.AxesSubplot at 0x7fdb82e065f8>"
      ]
     },
     "execution_count": 36,
     "metadata": {},
     "output_type": "execute_result"
    },
    {
     "data": {
      "image/png": "[encoded data removed]",
      "text/plain": [
       "<Figure size 432x288 with 2 Axes>"
      ]
     },
     "metadata": {
      "needs_background": "light"
     },
     "output_type": "display_data"
    }
   ],
   "source": [
    "fig, axes = plt.subplots(nrows=1, ncols=2)\n",
    "aux.plot(kind=\"bar\", ax=axes[0])\n",
    "aux2.plot(kind=\"bar\", ax=axes[1])"
   ]
  },
  {
   "cell_type": "markdown",
   "metadata": {},
   "source": [
    "**9.--** Haga un histograma que muestre a que horas se produce el máximo precio diario para los días laborales."
   ]
  },
  {
   "cell_type": "code",
   "execution_count": 37,
   "metadata": {},
   "outputs": [],
   "source": [
    "cinco['dia_semana'] = [a.weekday() for a in pd.to_datetime(cinco['Fecha'])]"
   ]
  },
  {
   "cell_type": "code",
   "execution_count": 38,
   "metadata": {},
   "outputs": [],
   "source": [
    "aux = cinco.copy()"
   ]
  },
  {
   "cell_type": "code",
   "execution_count": 39,
   "metadata": {},
   "outputs": [],
   "source": [
    "aux = aux[aux['dia_semana'] < 5]"
   ]
  },
  {
   "cell_type": "code",
   "execution_count": 40,
   "metadata": {},
   "outputs": [],
   "source": [
    "aux2 = aux.groupby('Fecha')['Precio'].max()"
   ]
  },
  {
   "cell_type": "code",
   "execution_count": 41,
   "metadata": {},
   "outputs": [],
   "source": [
    "aux3 = pd.DataFrame({'Fecha':aux2.index, 'PrecioMax':aux2.values})"
   ]
  },
  {
   "cell_type": "code",
   "execution_count": 42,
   "metadata": {},
   "outputs": [],
   "source": [
    "aux['Fecha'] = pd.to_datetime(aux['Fecha'])"
   ]
  },
  {
   "cell_type": "code",
   "execution_count": 43,
   "metadata": {},
   "outputs": [],
   "source": [
    "aux5 = pd.merge(aux, aux3, on=['Fecha'], how='inner')"
   ]
  },
  {
   "cell_type": "code",
   "execution_count": 44,
   "metadata": {},
   "outputs": [],
   "source": [
    "aux6 = aux5[aux5['Precio'] == aux5['PrecioMax']]"
   ]
  },
  {
   "cell_type": "code",
   "execution_count": 45,
   "metadata": {},
   "outputs": [
    {
     "data": {
      "text/html": [
       "<div>\n",
       "<style scoped>\n",
       "    .dataframe tbody tr th:only-of-type {\n",
       "        vertical-align: middle;\n",
       "    }\n",
       "\n",
       "    .dataframe tbody tr th {\n",
       "        vertical-align: top;\n",
       "    }\n",
       "\n",
       "    .dataframe thead th {\n",
       "        text-align: right;\n",
       "    }\n",
       "</style>\n",
       "<table border=\"1\" class=\"dataframe\">\n",
       "  <thead>\n",
       "    <tr style=\"text-align: right;\">\n",
       "      <th></th>\n",
       "      <th>Fecha</th>\n",
       "      <th>Hora</th>\n",
       "      <th>Precio</th>\n",
       "      <th>dia</th>\n",
       "      <th>mes</th>\n",
       "      <th>dia_semana</th>\n",
       "      <th>PrecioMax</th>\n",
       "    </tr>\n",
       "  </thead>\n",
       "  <tbody>\n",
       "    <tr>\n",
       "      <th>11</th>\n",
       "      <td>1995-07-21</td>\n",
       "      <td>19</td>\n",
       "      <td>16.67</td>\n",
       "      <td>21</td>\n",
       "      <td>7</td>\n",
       "      <td>4</td>\n",
       "      <td>16.67</td>\n",
       "    </tr>\n",
       "    <tr>\n",
       "      <th>35</th>\n",
       "      <td>1995-07-24</td>\n",
       "      <td>19</td>\n",
       "      <td>22.50</td>\n",
       "      <td>24</td>\n",
       "      <td>7</td>\n",
       "      <td>0</td>\n",
       "      <td>22.50</td>\n",
       "    </tr>\n",
       "    <tr>\n",
       "      <th>59</th>\n",
       "      <td>1995-07-25</td>\n",
       "      <td>19</td>\n",
       "      <td>1.50</td>\n",
       "      <td>25</td>\n",
       "      <td>7</td>\n",
       "      <td>1</td>\n",
       "      <td>1.50</td>\n",
       "    </tr>\n",
       "    <tr>\n",
       "      <th>83</th>\n",
       "      <td>1995-07-26</td>\n",
       "      <td>19</td>\n",
       "      <td>8.00</td>\n",
       "      <td>26</td>\n",
       "      <td>7</td>\n",
       "      <td>2</td>\n",
       "      <td>8.00</td>\n",
       "    </tr>\n",
       "    <tr>\n",
       "      <th>107</th>\n",
       "      <td>1995-07-27</td>\n",
       "      <td>19</td>\n",
       "      <td>1.50</td>\n",
       "      <td>27</td>\n",
       "      <td>7</td>\n",
       "      <td>3</td>\n",
       "      <td>1.50</td>\n",
       "    </tr>\n",
       "  </tbody>\n",
       "</table>\n",
       "</div>"
      ],
      "text/plain": [
       "         Fecha Hora  Precio  dia  mes  dia_semana  PrecioMax\n",
       "11  1995-07-21   19   16.67   21    7           4      16.67\n",
       "35  1995-07-24   19   22.50   24    7           0      22.50\n",
       "59  1995-07-25   19    1.50   25    7           1       1.50\n",
       "83  1995-07-26   19    8.00   26    7           2       8.00\n",
       "107 1995-07-27   19    1.50   27    7           3       1.50"
      ]
     },
     "execution_count": 45,
     "metadata": {},
     "output_type": "execute_result"
    }
   ],
   "source": [
    "aux6.head()"
   ]
  },
  {
   "cell_type": "code",
   "execution_count": 46,
   "metadata": {},
   "outputs": [],
   "source": [
    "a = list(map(int,aux6['Hora'].tolist()))"
   ]
  },
  {
   "cell_type": "code",
   "execution_count": 47,
   "metadata": {},
   "outputs": [
    {
     "data": {
      "text/plain": [
       "(array([  41.,   29.,   25.,   20.,   31.,   92.,  134.,  164.,  293.,\n",
       "         397.,  653., 1039.,  607.,  555.,  774.,  716.,  517.,  422.,\n",
       "        2776., 5022., 1660.,  619.,  147.,   41.]),\n",
       " array([ 0.        ,  0.95833333,  1.91666667,  2.875     ,  3.83333333,\n",
       "         4.79166667,  5.75      ,  6.70833333,  7.66666667,  8.625     ,\n",
       "         9.58333333, 10.54166667, 11.5       , 12.45833333, 13.41666667,\n",
       "        14.375     , 15.33333333, 16.29166667, 17.25      , 18.20833333,\n",
       "        19.16666667, 20.125     , 21.08333333, 22.04166667, 23.        ]),\n",
       " <a list of 24 Patch objects>)"
      ]
     },
     "execution_count": 47,
     "metadata": {},
     "output_type": "execute_result"
    },
    {
     "data": {
      "image/png": "[encoded data removed]",
      "text/plain": [
       "<Figure size 432x288 with 1 Axes>"
      ]
     },
     "metadata": {
      "needs_background": "light"
     },
     "output_type": "display_data"
    }
   ],
   "source": [
    "plt.hist(a, bins=24)"
   ]
  },
  {
   "cell_type": "markdown",
   "metadata": {},
   "source": [
    "**10.--** Haga un histograma que muestre a que horas se produce el máximo precio diario para los días sabado."
   ]
  },
  {
   "cell_type": "code",
   "execution_count": 48,
   "metadata": {},
   "outputs": [],
   "source": [
    "DatosPorDia = cinco.copy()\n",
    "DatosPorDia['Fecha'] = pd.to_datetime(DatosPorDia['Fecha'])\n",
    "DatosPorDia['Dia'] =  DatosPorDia[['Fecha']].apply(lambda x: dt.datetime.strftime(x['Fecha'], '%A'), axis=1)\n",
    "DataFramePorDiaSabado = DatosPorDia[(DatosPorDia['Dia'] == 'Saturday') ]\n",
    "DataFrameAgrupadoPorFecha = DataFramePorDiaSabado.groupby('Fecha').agg({'Precio': np.max}) \n",
    "DataFrameAgrupadoPorFecha.reset_index(inplace=True)\n",
    "DataFramesMerge = pd.merge(DataFramePorDiaSabado, DataFrameAgrupadoPorFecha, on=['Fecha','Precio'], how='inner')"
   ]
  },
  {
   "cell_type": "code",
   "execution_count": 49,
   "metadata": {},
   "outputs": [
    {
     "data": {
      "text/plain": [
       "Text(0, 0.5, 'Numero de ocurrencias')"
      ]
     },
     "execution_count": 49,
     "metadata": {},
     "output_type": "execute_result"
    },
    {
     "data": {
      "image/png": "[encoded data removed]",
      "text/plain": [
       "<Figure size 432x288 with 1 Axes>"
      ]
     },
     "metadata": {
      "needs_background": "light"
     },
     "output_type": "display_data"
    }
   ],
   "source": [
    "ListaDeHoras = list(map(int,DataFramesMerge['Hora'].tolist()))\n",
    "plt.hist(ListaDeHoras, bins=24)\n",
    "plt.title('Histograma : Horas en las que se presento el precio máximo \"Sabado\"')\n",
    "plt.xlabel('Horas')\n",
    "plt.ylabel('Numero de ocurrencias')"
   ]
  },
  {
   "cell_type": "markdown",
   "metadata": {},
   "source": [
    "**11.--** Haga un histograma que muestre a que horas se produce el máximo precio diario para los días domingo."
   ]
  },
  {
   "cell_type": "code",
   "execution_count": 50,
   "metadata": {},
   "outputs": [],
   "source": [
    "DatosPorDia = cinco.copy()\n",
    "DatosPorDia['Fecha'] = pd.to_datetime(DatosPorDia['Fecha'])\n",
    "DatosPorDia['Dia'] =  DatosPorDia[['Fecha']].apply(lambda x: dt.datetime.strftime(x['Fecha'], '%A'), axis=1)\n",
    "DataFramePorDiaDomingo = DatosPorDia[(DatosPorDia['Dia'] == 'Sunday') ]\n",
    "DataFrameAgrupadoPorFecha = DataFramePorDiaDomingo.groupby('Fecha').agg({'Precio': np.max}) \n",
    "DataFrameAgrupadoPorFecha.reset_index(inplace=True)\n",
    "DataFramesMerge = pd.merge(DataFramePorDiaDomingo, DataFrameAgrupadoPorFecha, on=['Fecha','Precio'], how='inner')"
   ]
  },
  {
   "cell_type": "code",
   "execution_count": 51,
   "metadata": {},
   "outputs": [
    {
     "data": {
      "text/plain": [
       "Text(0, 0.5, 'Numero de ocurrencias')"
      ]
     },
     "execution_count": 51,
     "metadata": {},
     "output_type": "execute_result"
    },
    {
     "data": {
      "image/png": "[encoded data removed]",
      "text/plain": [
       "<Figure size 432x288 with 1 Axes>"
      ]
     },
     "metadata": {
      "needs_background": "light"
     },
     "output_type": "display_data"
    }
   ],
   "source": [
    "ListaDeHoras = list(map(int,DataFramesMerge['Hora'].tolist()))\n",
    "plt.hist(ListaDeHoras, bins=24)\n",
    "plt.title('Histograma : Horas en las que se presento el precio máximo \"Domingo\"')\n",
    "plt.xlabel('Horas')\n",
    "plt.ylabel('Numero de ocurrencias')"
   ]
  },
  {
   "cell_type": "markdown",
   "metadata": {},
   "source": [
    "**12.--** Imprima una tabla con la fecha y el valor más bajo por año del precio de bolsa."
   ]
  },
  {
   "cell_type": "code",
   "execution_count": 52,
   "metadata": {},
   "outputs": [],
   "source": [
    "cinco['anio'] = [a.year for a in pd.to_datetime(cinco['Fecha'])]"
   ]
  },
  {
   "cell_type": "code",
   "execution_count": 53,
   "metadata": {},
   "outputs": [
    {
     "data": {
      "text/html": [
       "<div>\n",
       "<style scoped>\n",
       "    .dataframe tbody tr th:only-of-type {\n",
       "        vertical-align: middle;\n",
       "    }\n",
       "\n",
       "    .dataframe tbody tr th {\n",
       "        vertical-align: top;\n",
       "    }\n",
       "\n",
       "    .dataframe thead th {\n",
       "        text-align: right;\n",
       "    }\n",
       "</style>\n",
       "<table border=\"1\" class=\"dataframe\">\n",
       "  <thead>\n",
       "    <tr style=\"text-align: right;\">\n",
       "      <th></th>\n",
       "      <th>Fecha</th>\n",
       "      <th>Hora</th>\n",
       "      <th>Precio</th>\n",
       "      <th>dia</th>\n",
       "      <th>mes</th>\n",
       "      <th>dia_semana</th>\n",
       "      <th>anio</th>\n",
       "    </tr>\n",
       "  </thead>\n",
       "  <tbody>\n",
       "    <tr>\n",
       "      <th>1</th>\n",
       "      <td>1995-07-21</td>\n",
       "      <td>0</td>\n",
       "      <td>1.073</td>\n",
       "      <td>21</td>\n",
       "      <td>7</td>\n",
       "      <td>4</td>\n",
       "      <td>1995</td>\n",
       "    </tr>\n",
       "    <tr>\n",
       "      <th>2</th>\n",
       "      <td>1995-07-22</td>\n",
       "      <td>0</td>\n",
       "      <td>1.073</td>\n",
       "      <td>22</td>\n",
       "      <td>7</td>\n",
       "      <td>5</td>\n",
       "      <td>1995</td>\n",
       "    </tr>\n",
       "    <tr>\n",
       "      <th>3</th>\n",
       "      <td>1995-07-23</td>\n",
       "      <td>0</td>\n",
       "      <td>1.073</td>\n",
       "      <td>23</td>\n",
       "      <td>7</td>\n",
       "      <td>6</td>\n",
       "      <td>1995</td>\n",
       "    </tr>\n",
       "    <tr>\n",
       "      <th>4</th>\n",
       "      <td>1995-07-24</td>\n",
       "      <td>0</td>\n",
       "      <td>1.000</td>\n",
       "      <td>24</td>\n",
       "      <td>7</td>\n",
       "      <td>0</td>\n",
       "      <td>1995</td>\n",
       "    </tr>\n",
       "    <tr>\n",
       "      <th>5</th>\n",
       "      <td>1995-07-25</td>\n",
       "      <td>0</td>\n",
       "      <td>0.990</td>\n",
       "      <td>25</td>\n",
       "      <td>7</td>\n",
       "      <td>1</td>\n",
       "      <td>1995</td>\n",
       "    </tr>\n",
       "  </tbody>\n",
       "</table>\n",
       "</div>"
      ],
      "text/plain": [
       "        Fecha Hora  Precio  dia  mes  dia_semana  anio\n",
       "1  1995-07-21    0   1.073   21    7           4  1995\n",
       "2  1995-07-22    0   1.073   22    7           5  1995\n",
       "3  1995-07-23    0   1.073   23    7           6  1995\n",
       "4  1995-07-24    0   1.000   24    7           0  1995\n",
       "5  1995-07-25    0   0.990   25    7           1  1995"
      ]
     },
     "execution_count": 53,
     "metadata": {},
     "output_type": "execute_result"
    }
   ],
   "source": [
    "cinco.head()"
   ]
  },
  {
   "cell_type": "code",
   "execution_count": 54,
   "metadata": {},
   "outputs": [],
   "source": [
    "aux = cinco.copy()"
   ]
  },
  {
   "cell_type": "code",
   "execution_count": 55,
   "metadata": {},
   "outputs": [],
   "source": [
    "aux2 = aux.groupby('anio')['Precio'].min()"
   ]
  },
  {
   "cell_type": "code",
   "execution_count": 56,
   "metadata": {},
   "outputs": [
    {
     "data": {
      "text/plain": [
       "anio\n",
       "1995     0.00000\n",
       "1996     0.00000\n",
       "1997    10.88231\n",
       "1998    13.84733\n",
       "1999    18.35953\n",
       "Name: Precio, dtype: float64"
      ]
     },
     "execution_count": 56,
     "metadata": {},
     "output_type": "execute_result"
    }
   ],
   "source": [
    "aux2.head()"
   ]
  },
  {
   "cell_type": "code",
   "execution_count": 57,
   "metadata": {},
   "outputs": [],
   "source": [
    "aux3 = pd.DataFrame({'anio':aux2.index, 'PrecioMin':aux2.values})"
   ]
  },
  {
   "cell_type": "code",
   "execution_count": 58,
   "metadata": {},
   "outputs": [
    {
     "data": {
      "text/html": [
       "<div>\n",
       "<style scoped>\n",
       "    .dataframe tbody tr th:only-of-type {\n",
       "        vertical-align: middle;\n",
       "    }\n",
       "\n",
       "    .dataframe tbody tr th {\n",
       "        vertical-align: top;\n",
       "    }\n",
       "\n",
       "    .dataframe thead th {\n",
       "        text-align: right;\n",
       "    }\n",
       "</style>\n",
       "<table border=\"1\" class=\"dataframe\">\n",
       "  <thead>\n",
       "    <tr style=\"text-align: right;\">\n",
       "      <th></th>\n",
       "      <th>anio</th>\n",
       "      <th>PrecioMin</th>\n",
       "    </tr>\n",
       "  </thead>\n",
       "  <tbody>\n",
       "    <tr>\n",
       "      <th>0</th>\n",
       "      <td>1995</td>\n",
       "      <td>0.00000</td>\n",
       "    </tr>\n",
       "    <tr>\n",
       "      <th>1</th>\n",
       "      <td>1996</td>\n",
       "      <td>0.00000</td>\n",
       "    </tr>\n",
       "    <tr>\n",
       "      <th>2</th>\n",
       "      <td>1997</td>\n",
       "      <td>10.88231</td>\n",
       "    </tr>\n",
       "    <tr>\n",
       "      <th>3</th>\n",
       "      <td>1998</td>\n",
       "      <td>13.84733</td>\n",
       "    </tr>\n",
       "    <tr>\n",
       "      <th>4</th>\n",
       "      <td>1999</td>\n",
       "      <td>18.35953</td>\n",
       "    </tr>\n",
       "  </tbody>\n",
       "</table>\n",
       "</div>"
      ],
      "text/plain": [
       "   anio  PrecioMin\n",
       "0  1995    0.00000\n",
       "1  1996    0.00000\n",
       "2  1997   10.88231\n",
       "3  1998   13.84733\n",
       "4  1999   18.35953"
      ]
     },
     "execution_count": 58,
     "metadata": {},
     "output_type": "execute_result"
    }
   ],
   "source": [
    "aux3.head()"
   ]
  },
  {
   "cell_type": "code",
   "execution_count": 59,
   "metadata": {},
   "outputs": [],
   "source": [
    "aux4 = pd.merge(aux, aux3, on=['anio'], how='inner')"
   ]
  },
  {
   "cell_type": "code",
   "execution_count": 60,
   "metadata": {},
   "outputs": [
    {
     "data": {
      "text/html": [
       "<div>\n",
       "<style scoped>\n",
       "    .dataframe tbody tr th:only-of-type {\n",
       "        vertical-align: middle;\n",
       "    }\n",
       "\n",
       "    .dataframe tbody tr th {\n",
       "        vertical-align: top;\n",
       "    }\n",
       "\n",
       "    .dataframe thead th {\n",
       "        text-align: right;\n",
       "    }\n",
       "</style>\n",
       "<table border=\"1\" class=\"dataframe\">\n",
       "  <thead>\n",
       "    <tr style=\"text-align: right;\">\n",
       "      <th></th>\n",
       "      <th>Fecha</th>\n",
       "      <th>Hora</th>\n",
       "      <th>Precio</th>\n",
       "      <th>dia</th>\n",
       "      <th>mes</th>\n",
       "      <th>dia_semana</th>\n",
       "      <th>anio</th>\n",
       "      <th>PrecioMin</th>\n",
       "    </tr>\n",
       "  </thead>\n",
       "  <tbody>\n",
       "    <tr>\n",
       "      <th>0</th>\n",
       "      <td>1995-07-21</td>\n",
       "      <td>0</td>\n",
       "      <td>1.073</td>\n",
       "      <td>21</td>\n",
       "      <td>7</td>\n",
       "      <td>4</td>\n",
       "      <td>1995</td>\n",
       "      <td>0.0</td>\n",
       "    </tr>\n",
       "    <tr>\n",
       "      <th>1</th>\n",
       "      <td>1995-07-22</td>\n",
       "      <td>0</td>\n",
       "      <td>1.073</td>\n",
       "      <td>22</td>\n",
       "      <td>7</td>\n",
       "      <td>5</td>\n",
       "      <td>1995</td>\n",
       "      <td>0.0</td>\n",
       "    </tr>\n",
       "    <tr>\n",
       "      <th>2</th>\n",
       "      <td>1995-07-23</td>\n",
       "      <td>0</td>\n",
       "      <td>1.073</td>\n",
       "      <td>23</td>\n",
       "      <td>7</td>\n",
       "      <td>6</td>\n",
       "      <td>1995</td>\n",
       "      <td>0.0</td>\n",
       "    </tr>\n",
       "    <tr>\n",
       "      <th>3</th>\n",
       "      <td>1995-07-24</td>\n",
       "      <td>0</td>\n",
       "      <td>1.000</td>\n",
       "      <td>24</td>\n",
       "      <td>7</td>\n",
       "      <td>0</td>\n",
       "      <td>1995</td>\n",
       "      <td>0.0</td>\n",
       "    </tr>\n",
       "    <tr>\n",
       "      <th>4</th>\n",
       "      <td>1995-07-25</td>\n",
       "      <td>0</td>\n",
       "      <td>0.990</td>\n",
       "      <td>25</td>\n",
       "      <td>7</td>\n",
       "      <td>1</td>\n",
       "      <td>1995</td>\n",
       "      <td>0.0</td>\n",
       "    </tr>\n",
       "  </tbody>\n",
       "</table>\n",
       "</div>"
      ],
      "text/plain": [
       "        Fecha Hora  Precio  dia  mes  dia_semana  anio  PrecioMin\n",
       "0  1995-07-21    0   1.073   21    7           4  1995        0.0\n",
       "1  1995-07-22    0   1.073   22    7           5  1995        0.0\n",
       "2  1995-07-23    0   1.073   23    7           6  1995        0.0\n",
       "3  1995-07-24    0   1.000   24    7           0  1995        0.0\n",
       "4  1995-07-25    0   0.990   25    7           1  1995        0.0"
      ]
     },
     "execution_count": 60,
     "metadata": {},
     "output_type": "execute_result"
    }
   ],
   "source": [
    "aux4.head()"
   ]
  },
  {
   "cell_type": "code",
   "execution_count": 61,
   "metadata": {},
   "outputs": [],
   "source": [
    "aux5 = aux4[aux4['Precio'] == aux4['PrecioMin']]"
   ]
  },
  {
   "cell_type": "code",
   "execution_count": 62,
   "metadata": {},
   "outputs": [],
   "source": [
    "aux6 = aux5[['Fecha', 'PrecioMin']].drop_duplicates()"
   ]
  },
  {
   "cell_type": "code",
   "execution_count": 63,
   "metadata": {},
   "outputs": [
    {
     "data": {
      "text/html": [
       "<div>\n",
       "<style scoped>\n",
       "    .dataframe tbody tr th:only-of-type {\n",
       "        vertical-align: middle;\n",
       "    }\n",
       "\n",
       "    .dataframe tbody tr th {\n",
       "        vertical-align: top;\n",
       "    }\n",
       "\n",
       "    .dataframe thead th {\n",
       "        text-align: right;\n",
       "    }\n",
       "</style>\n",
       "<table border=\"1\" class=\"dataframe\">\n",
       "  <thead>\n",
       "    <tr style=\"text-align: right;\">\n",
       "      <th></th>\n",
       "      <th>Fecha</th>\n",
       "      <th>PrecioMin</th>\n",
       "    </tr>\n",
       "  </thead>\n",
       "  <tbody>\n",
       "    <tr>\n",
       "      <th>7</th>\n",
       "      <td>1995-07-28</td>\n",
       "      <td>0.000000</td>\n",
       "    </tr>\n",
       "    <tr>\n",
       "      <th>10</th>\n",
       "      <td>1995-07-31</td>\n",
       "      <td>0.000000</td>\n",
       "    </tr>\n",
       "    <tr>\n",
       "      <th>11</th>\n",
       "      <td>1995-08-01</td>\n",
       "      <td>0.000000</td>\n",
       "    </tr>\n",
       "    <tr>\n",
       "      <th>84</th>\n",
       "      <td>1995-10-13</td>\n",
       "      <td>0.000000</td>\n",
       "    </tr>\n",
       "    <tr>\n",
       "      <th>1164</th>\n",
       "      <td>1995-07-30</td>\n",
       "      <td>0.000000</td>\n",
       "    </tr>\n",
       "    <tr>\n",
       "      <th>1988</th>\n",
       "      <td>1995-07-29</td>\n",
       "      <td>0.000000</td>\n",
       "    </tr>\n",
       "    <tr>\n",
       "      <th>2645</th>\n",
       "      <td>1995-07-26</td>\n",
       "      <td>0.000000</td>\n",
       "    </tr>\n",
       "    <tr>\n",
       "      <th>4140</th>\n",
       "      <td>1996-06-30 00:00:00</td>\n",
       "      <td>0.000000</td>\n",
       "    </tr>\n",
       "    <tr>\n",
       "      <th>4149</th>\n",
       "      <td>1996-07-09 00:00:00</td>\n",
       "      <td>0.000000</td>\n",
       "    </tr>\n",
       "    <tr>\n",
       "      <th>4152</th>\n",
       "      <td>1996-07-12 00:00:00</td>\n",
       "      <td>0.000000</td>\n",
       "    </tr>\n",
       "    <tr>\n",
       "      <th>4162</th>\n",
       "      <td>1996-07-22 00:00:00</td>\n",
       "      <td>0.000000</td>\n",
       "    </tr>\n",
       "    <tr>\n",
       "      <th>4163</th>\n",
       "      <td>1996-07-23 00:00:00</td>\n",
       "      <td>0.000000</td>\n",
       "    </tr>\n",
       "    <tr>\n",
       "      <th>4164</th>\n",
       "      <td>1996-07-24 00:00:00</td>\n",
       "      <td>0.000000</td>\n",
       "    </tr>\n",
       "    <tr>\n",
       "      <th>4821</th>\n",
       "      <td>1996-05-10 00:00:00</td>\n",
       "      <td>0.000000</td>\n",
       "    </tr>\n",
       "    <tr>\n",
       "      <th>6723</th>\n",
       "      <td>1996-07-21 00:00:00</td>\n",
       "      <td>0.000000</td>\n",
       "    </tr>\n",
       "    <tr>\n",
       "      <th>8536</th>\n",
       "      <td>1996-07-04 00:00:00</td>\n",
       "      <td>0.000000</td>\n",
       "    </tr>\n",
       "    <tr>\n",
       "      <th>10004</th>\n",
       "      <td>1996-07-08 00:00:00</td>\n",
       "      <td>0.000000</td>\n",
       "    </tr>\n",
       "    <tr>\n",
       "      <th>11105</th>\n",
       "      <td>1996-07-11 00:00:00</td>\n",
       "      <td>0.000000</td>\n",
       "    </tr>\n",
       "    <tr>\n",
       "      <th>17318</th>\n",
       "      <td>1997-07-15 00:00:00</td>\n",
       "      <td>10.882310</td>\n",
       "    </tr>\n",
       "    <tr>\n",
       "      <th>21695</th>\n",
       "      <td>1998-07-12 00:00:00</td>\n",
       "      <td>13.847330</td>\n",
       "    </tr>\n",
       "    <tr>\n",
       "      <th>21696</th>\n",
       "      <td>1998-07-13 00:00:00</td>\n",
       "      <td>13.847330</td>\n",
       "    </tr>\n",
       "    <tr>\n",
       "      <th>21697</th>\n",
       "      <td>1998-07-14 00:00:00</td>\n",
       "      <td>13.847330</td>\n",
       "    </tr>\n",
       "    <tr>\n",
       "      <th>21698</th>\n",
       "      <td>1998-07-15 00:00:00</td>\n",
       "      <td>13.847330</td>\n",
       "    </tr>\n",
       "    <tr>\n",
       "      <th>21699</th>\n",
       "      <td>1998-07-16 00:00:00</td>\n",
       "      <td>13.847330</td>\n",
       "    </tr>\n",
       "    <tr>\n",
       "      <th>21701</th>\n",
       "      <td>1998-07-18 00:00:00</td>\n",
       "      <td>13.847330</td>\n",
       "    </tr>\n",
       "    <tr>\n",
       "      <th>21702</th>\n",
       "      <td>1998-07-19 00:00:00</td>\n",
       "      <td>13.847330</td>\n",
       "    </tr>\n",
       "    <tr>\n",
       "      <th>21703</th>\n",
       "      <td>1998-07-20 00:00:00</td>\n",
       "      <td>13.847330</td>\n",
       "    </tr>\n",
       "    <tr>\n",
       "      <th>21704</th>\n",
       "      <td>1998-07-21 00:00:00</td>\n",
       "      <td>13.847330</td>\n",
       "    </tr>\n",
       "    <tr>\n",
       "      <th>21705</th>\n",
       "      <td>1998-07-22 00:00:00</td>\n",
       "      <td>13.847330</td>\n",
       "    </tr>\n",
       "    <tr>\n",
       "      <th>21706</th>\n",
       "      <td>1998-07-23 00:00:00</td>\n",
       "      <td>13.847330</td>\n",
       "    </tr>\n",
       "    <tr>\n",
       "      <th>...</th>\n",
       "      <td>...</td>\n",
       "      <td>...</td>\n",
       "    </tr>\n",
       "    <tr>\n",
       "      <th>31079</th>\n",
       "      <td>1999-03-28 00:00:00</td>\n",
       "      <td>18.359530</td>\n",
       "    </tr>\n",
       "    <tr>\n",
       "      <th>35097</th>\n",
       "      <td>1999-03-31 00:00:00</td>\n",
       "      <td>18.359530</td>\n",
       "    </tr>\n",
       "    <tr>\n",
       "      <th>39839</th>\n",
       "      <td>2000-03-25</td>\n",
       "      <td>21.531167</td>\n",
       "    </tr>\n",
       "    <tr>\n",
       "      <th>40940</th>\n",
       "      <td>2000-03-28</td>\n",
       "      <td>21.531167</td>\n",
       "    </tr>\n",
       "    <tr>\n",
       "      <th>41305</th>\n",
       "      <td>2000-03-27</td>\n",
       "      <td>21.531167</td>\n",
       "    </tr>\n",
       "    <tr>\n",
       "      <th>41670</th>\n",
       "      <td>2000-03-26</td>\n",
       "      <td>21.531167</td>\n",
       "    </tr>\n",
       "    <tr>\n",
       "      <th>42405</th>\n",
       "      <td>2000-03-29</td>\n",
       "      <td>21.531167</td>\n",
       "    </tr>\n",
       "    <tr>\n",
       "      <th>42407</th>\n",
       "      <td>2000-03-31</td>\n",
       "      <td>21.531167</td>\n",
       "    </tr>\n",
       "    <tr>\n",
       "      <th>54243</th>\n",
       "      <td>2001-08-20</td>\n",
       "      <td>24.822879</td>\n",
       "    </tr>\n",
       "    <tr>\n",
       "      <th>56685</th>\n",
       "      <td>2002-04-29</td>\n",
       "      <td>26.777682</td>\n",
       "    </tr>\n",
       "    <tr>\n",
       "      <th>57041</th>\n",
       "      <td>2002-04-20</td>\n",
       "      <td>26.777682</td>\n",
       "    </tr>\n",
       "    <tr>\n",
       "      <th>57046</th>\n",
       "      <td>2002-04-25</td>\n",
       "      <td>26.777682</td>\n",
       "    </tr>\n",
       "    <tr>\n",
       "      <th>61059</th>\n",
       "      <td>2002-04-23</td>\n",
       "      <td>26.777682</td>\n",
       "    </tr>\n",
       "    <tr>\n",
       "      <th>65371</th>\n",
       "      <td>2003-02-14</td>\n",
       "      <td>37.013438</td>\n",
       "    </tr>\n",
       "    <tr>\n",
       "      <th>74541</th>\n",
       "      <td>2004-03-29</td>\n",
       "      <td>32.252998</td>\n",
       "    </tr>\n",
       "    <tr>\n",
       "      <th>83147</th>\n",
       "      <td>2005-10-04</td>\n",
       "      <td>27.581415</td>\n",
       "    </tr>\n",
       "    <tr>\n",
       "      <th>96300</th>\n",
       "      <td>2006-10-17</td>\n",
       "      <td>26.714797</td>\n",
       "    </tr>\n",
       "    <tr>\n",
       "      <th>100513</th>\n",
       "      <td>2007-05-03</td>\n",
       "      <td>30.173824</td>\n",
       "    </tr>\n",
       "    <tr>\n",
       "      <th>109297</th>\n",
       "      <td>2008-05-26</td>\n",
       "      <td>29.199135</td>\n",
       "    </tr>\n",
       "    <tr>\n",
       "      <th>118290</th>\n",
       "      <td>2009-12-22</td>\n",
       "      <td>32.892503</td>\n",
       "    </tr>\n",
       "    <tr>\n",
       "      <th>118657</th>\n",
       "      <td>2009-12-24</td>\n",
       "      <td>32.892503</td>\n",
       "    </tr>\n",
       "    <tr>\n",
       "      <th>126887</th>\n",
       "      <td>2010-07-12</td>\n",
       "      <td>32.024957</td>\n",
       "    </tr>\n",
       "    <tr>\n",
       "      <th>135611</th>\n",
       "      <td>2011-06-06</td>\n",
       "      <td>33.291100</td>\n",
       "    </tr>\n",
       "    <tr>\n",
       "      <th>151654</th>\n",
       "      <td>2012-04-29</td>\n",
       "      <td>34.988099</td>\n",
       "    </tr>\n",
       "    <tr>\n",
       "      <th>153007</th>\n",
       "      <td>2013-01-09</td>\n",
       "      <td>40.415346</td>\n",
       "    </tr>\n",
       "    <tr>\n",
       "      <th>166145</th>\n",
       "      <td>2014-01-11</td>\n",
       "      <td>38.941951</td>\n",
       "    </tr>\n",
       "    <tr>\n",
       "      <th>174900</th>\n",
       "      <td>2015-01-06</td>\n",
       "      <td>46.791501</td>\n",
       "    </tr>\n",
       "    <tr>\n",
       "      <th>179618</th>\n",
       "      <td>2016-12-09</td>\n",
       "      <td>61.100689</td>\n",
       "    </tr>\n",
       "    <tr>\n",
       "      <th>188145</th>\n",
       "      <td>2017-03-28</td>\n",
       "      <td>60.312095</td>\n",
       "    </tr>\n",
       "    <tr>\n",
       "      <th>199039</th>\n",
       "      <td>2018-04-06</td>\n",
       "      <td>61.457224</td>\n",
       "    </tr>\n",
       "  </tbody>\n",
       "</table>\n",
       "<p>71 rows × 2 columns</p>\n",
       "</div>"
      ],
      "text/plain": [
       "                      Fecha  PrecioMin\n",
       "7                1995-07-28   0.000000\n",
       "10               1995-07-31   0.000000\n",
       "11               1995-08-01   0.000000\n",
       "84               1995-10-13   0.000000\n",
       "1164             1995-07-30   0.000000\n",
       "1988             1995-07-29   0.000000\n",
       "2645             1995-07-26   0.000000\n",
       "4140    1996-06-30 00:00:00   0.000000\n",
       "4149    1996-07-09 00:00:00   0.000000\n",
       "4152    1996-07-12 00:00:00   0.000000\n",
       "4162    1996-07-22 00:00:00   0.000000\n",
       "4163    1996-07-23 00:00:00   0.000000\n",
       "4164    1996-07-24 00:00:00   0.000000\n",
       "4821    1996-05-10 00:00:00   0.000000\n",
       "6723    1996-07-21 00:00:00   0.000000\n",
       "8536    1996-07-04 00:00:00   0.000000\n",
       "10004   1996-07-08 00:00:00   0.000000\n",
       "11105   1996-07-11 00:00:00   0.000000\n",
       "17318   1997-07-15 00:00:00  10.882310\n",
       "21695   1998-07-12 00:00:00  13.847330\n",
       "21696   1998-07-13 00:00:00  13.847330\n",
       "21697   1998-07-14 00:00:00  13.847330\n",
       "21698   1998-07-15 00:00:00  13.847330\n",
       "21699   1998-07-16 00:00:00  13.847330\n",
       "21701   1998-07-18 00:00:00  13.847330\n",
       "21702   1998-07-19 00:00:00  13.847330\n",
       "21703   1998-07-20 00:00:00  13.847330\n",
       "21704   1998-07-21 00:00:00  13.847330\n",
       "21705   1998-07-22 00:00:00  13.847330\n",
       "21706   1998-07-23 00:00:00  13.847330\n",
       "...                     ...        ...\n",
       "31079   1999-03-28 00:00:00  18.359530\n",
       "35097   1999-03-31 00:00:00  18.359530\n",
       "39839            2000-03-25  21.531167\n",
       "40940            2000-03-28  21.531167\n",
       "41305            2000-03-27  21.531167\n",
       "41670            2000-03-26  21.531167\n",
       "42405            2000-03-29  21.531167\n",
       "42407            2000-03-31  21.531167\n",
       "54243            2001-08-20  24.822879\n",
       "56685            2002-04-29  26.777682\n",
       "57041            2002-04-20  26.777682\n",
       "57046            2002-04-25  26.777682\n",
       "61059            2002-04-23  26.777682\n",
       "65371            2003-02-14  37.013438\n",
       "74541            2004-03-29  32.252998\n",
       "83147            2005-10-04  27.581415\n",
       "96300            2006-10-17  26.714797\n",
       "100513           2007-05-03  30.173824\n",
       "109297           2008-05-26  29.199135\n",
       "118290           2009-12-22  32.892503\n",
       "118657           2009-12-24  32.892503\n",
       "126887           2010-07-12  32.024957\n",
       "135611           2011-06-06  33.291100\n",
       "151654           2012-04-29  34.988099\n",
       "153007           2013-01-09  40.415346\n",
       "166145           2014-01-11  38.941951\n",
       "174900           2015-01-06  46.791501\n",
       "179618           2016-12-09  61.100689\n",
       "188145           2017-03-28  60.312095\n",
       "199039           2018-04-06  61.457224\n",
       "\n",
       "[71 rows x 2 columns]"
      ]
     },
     "execution_count": 63,
     "metadata": {},
     "output_type": "execute_result"
    }
   ],
   "source": [
    "aux6[['Fecha', 'PrecioMin']]"
   ]
  },
  {
   "cell_type": "markdown",
   "metadata": {},
   "source": [
    "**13.--** Haga una gráfica en que se muestre el precio promedio diario y el precio promedio mensual."
   ]
  },
  {
   "cell_type": "code",
   "execution_count": 64,
   "metadata": {},
   "outputs": [],
   "source": [
    "aux = cinco.copy()"
   ]
  },
  {
   "cell_type": "code",
   "execution_count": 65,
   "metadata": {},
   "outputs": [],
   "source": [
    "aux['mes'] = [a.month for a in pd.to_datetime(cinco['Fecha'])]"
   ]
  },
  {
   "cell_type": "code",
   "execution_count": 66,
   "metadata": {},
   "outputs": [
    {
     "data": {
      "text/html": [
       "<div>\n",
       "<style scoped>\n",
       "    .dataframe tbody tr th:only-of-type {\n",
       "        vertical-align: middle;\n",
       "    }\n",
       "\n",
       "    .dataframe tbody tr th {\n",
       "        vertical-align: top;\n",
       "    }\n",
       "\n",
       "    .dataframe thead th {\n",
       "        text-align: right;\n",
       "    }\n",
       "</style>\n",
       "<table border=\"1\" class=\"dataframe\">\n",
       "  <thead>\n",
       "    <tr style=\"text-align: right;\">\n",
       "      <th></th>\n",
       "      <th>Fecha</th>\n",
       "      <th>Hora</th>\n",
       "      <th>Precio</th>\n",
       "      <th>dia</th>\n",
       "      <th>mes</th>\n",
       "      <th>dia_semana</th>\n",
       "      <th>anio</th>\n",
       "    </tr>\n",
       "  </thead>\n",
       "  <tbody>\n",
       "    <tr>\n",
       "      <th>1</th>\n",
       "      <td>1995-07-21</td>\n",
       "      <td>0</td>\n",
       "      <td>1.073</td>\n",
       "      <td>21</td>\n",
       "      <td>7</td>\n",
       "      <td>4</td>\n",
       "      <td>1995</td>\n",
       "    </tr>\n",
       "    <tr>\n",
       "      <th>2</th>\n",
       "      <td>1995-07-22</td>\n",
       "      <td>0</td>\n",
       "      <td>1.073</td>\n",
       "      <td>22</td>\n",
       "      <td>7</td>\n",
       "      <td>5</td>\n",
       "      <td>1995</td>\n",
       "    </tr>\n",
       "    <tr>\n",
       "      <th>3</th>\n",
       "      <td>1995-07-23</td>\n",
       "      <td>0</td>\n",
       "      <td>1.073</td>\n",
       "      <td>23</td>\n",
       "      <td>7</td>\n",
       "      <td>6</td>\n",
       "      <td>1995</td>\n",
       "    </tr>\n",
       "    <tr>\n",
       "      <th>4</th>\n",
       "      <td>1995-07-24</td>\n",
       "      <td>0</td>\n",
       "      <td>1.000</td>\n",
       "      <td>24</td>\n",
       "      <td>7</td>\n",
       "      <td>0</td>\n",
       "      <td>1995</td>\n",
       "    </tr>\n",
       "    <tr>\n",
       "      <th>5</th>\n",
       "      <td>1995-07-25</td>\n",
       "      <td>0</td>\n",
       "      <td>0.990</td>\n",
       "      <td>25</td>\n",
       "      <td>7</td>\n",
       "      <td>1</td>\n",
       "      <td>1995</td>\n",
       "    </tr>\n",
       "  </tbody>\n",
       "</table>\n",
       "</div>"
      ],
      "text/plain": [
       "        Fecha Hora  Precio  dia  mes  dia_semana  anio\n",
       "1  1995-07-21    0   1.073   21    7           4  1995\n",
       "2  1995-07-22    0   1.073   22    7           5  1995\n",
       "3  1995-07-23    0   1.073   23    7           6  1995\n",
       "4  1995-07-24    0   1.000   24    7           0  1995\n",
       "5  1995-07-25    0   0.990   25    7           1  1995"
      ]
     },
     "execution_count": 66,
     "metadata": {},
     "output_type": "execute_result"
    }
   ],
   "source": [
    "aux.head()"
   ]
  },
  {
   "cell_type": "code",
   "execution_count": 67,
   "metadata": {},
   "outputs": [],
   "source": [
    "aux1 = aux.groupby('Fecha')['Precio'].mean()"
   ]
  },
  {
   "cell_type": "code",
   "execution_count": 68,
   "metadata": {},
   "outputs": [],
   "source": [
    "aux2 = aux.groupby(['mes', 'anio'])['Precio'].mean()"
   ]
  },
  {
   "cell_type": "code",
   "execution_count": 69,
   "metadata": {},
   "outputs": [
    {
     "data": {
      "text/plain": [
       "mes  anio\n",
       "1    1996     23.008071\n",
       "     1997     21.623433\n",
       "     1998    133.844299\n",
       "     1999     24.921645\n",
       "     2000     36.778780\n",
       "Name: Precio, dtype: float64"
      ]
     },
     "execution_count": 69,
     "metadata": {},
     "output_type": "execute_result"
    }
   ],
   "source": [
    "aux2.head()"
   ]
  },
  {
   "cell_type": "code",
   "execution_count": 70,
   "metadata": {},
   "outputs": [
    {
     "data": {
      "text/plain": [
       "Int64Index([1995, 1996, 1997, 1998, 1999, 2000, 2001, 2002, 2003, 2004, 2005,\n",
       "            2006, 2007, 2008, 2009, 2010, 2011, 2012, 2013, 2014, 2015, 2016,\n",
       "            2017, 2018],\n",
       "           dtype='int64', name='anio')"
      ]
     },
     "execution_count": 70,
     "metadata": {},
     "output_type": "execute_result"
    }
   ],
   "source": [
    "aux2.index.levels[1]"
   ]
  },
  {
   "cell_type": "code",
   "execution_count": 71,
   "metadata": {},
   "outputs": [],
   "source": [
    "aux3 = pd.DataFrame({'anio':aux2.index.to_numpy(), 'Prom':aux2.values})"
   ]
  },
  {
   "cell_type": "code",
   "execution_count": 72,
   "metadata": {},
   "outputs": [],
   "source": [
    "aux3['anio'] = aux3['anio'][0][1]"
   ]
  },
  {
   "cell_type": "code",
   "execution_count": 73,
   "metadata": {},
   "outputs": [
    {
     "data": {
      "text/html": [
       "<div>\n",
       "<style scoped>\n",
       "    .dataframe tbody tr th:only-of-type {\n",
       "        vertical-align: middle;\n",
       "    }\n",
       "\n",
       "    .dataframe tbody tr th {\n",
       "        vertical-align: top;\n",
       "    }\n",
       "\n",
       "    .dataframe thead th {\n",
       "        text-align: right;\n",
       "    }\n",
       "</style>\n",
       "<table border=\"1\" class=\"dataframe\">\n",
       "  <thead>\n",
       "    <tr style=\"text-align: right;\">\n",
       "      <th></th>\n",
       "      <th>anio</th>\n",
       "      <th>Prom</th>\n",
       "    </tr>\n",
       "  </thead>\n",
       "  <tbody>\n",
       "    <tr>\n",
       "      <th>0</th>\n",
       "      <td>1996</td>\n",
       "      <td>23.008071</td>\n",
       "    </tr>\n",
       "    <tr>\n",
       "      <th>1</th>\n",
       "      <td>1996</td>\n",
       "      <td>21.623433</td>\n",
       "    </tr>\n",
       "    <tr>\n",
       "      <th>2</th>\n",
       "      <td>1996</td>\n",
       "      <td>133.844299</td>\n",
       "    </tr>\n",
       "    <tr>\n",
       "      <th>3</th>\n",
       "      <td>1996</td>\n",
       "      <td>24.921645</td>\n",
       "    </tr>\n",
       "    <tr>\n",
       "      <th>4</th>\n",
       "      <td>1996</td>\n",
       "      <td>36.778780</td>\n",
       "    </tr>\n",
       "  </tbody>\n",
       "</table>\n",
       "</div>"
      ],
      "text/plain": [
       "   anio        Prom\n",
       "0  1996   23.008071\n",
       "1  1996   21.623433\n",
       "2  1996  133.844299\n",
       "3  1996   24.921645\n",
       "4  1996   36.778780"
      ]
     },
     "execution_count": 73,
     "metadata": {},
     "output_type": "execute_result"
    }
   ],
   "source": [
    "aux3.head()"
   ]
  },
  {
   "cell_type": "code",
   "execution_count": 74,
   "metadata": {},
   "outputs": [],
   "source": [
    "aux4 = aux3.T.squeeze()"
   ]
  },
  {
   "cell_type": "code",
   "execution_count": 76,
   "metadata": {},
   "outputs": [
    {
     "data": {
      "text/html": [
       "<div>\n",
       "<style scoped>\n",
       "    .dataframe tbody tr th:only-of-type {\n",
       "        vertical-align: middle;\n",
       "    }\n",
       "\n",
       "    .dataframe tbody tr th {\n",
       "        vertical-align: top;\n",
       "    }\n",
       "\n",
       "    .dataframe thead th {\n",
       "        text-align: right;\n",
       "    }\n",
       "</style>\n",
       "<table border=\"1\" class=\"dataframe\">\n",
       "  <thead>\n",
       "    <tr style=\"text-align: right;\">\n",
       "      <th></th>\n",
       "      <th>0</th>\n",
       "      <th>1</th>\n",
       "      <th>2</th>\n",
       "      <th>3</th>\n",
       "      <th>4</th>\n",
       "      <th>5</th>\n",
       "      <th>6</th>\n",
       "      <th>7</th>\n",
       "      <th>8</th>\n",
       "      <th>9</th>\n",
       "      <th>...</th>\n",
       "      <th>265</th>\n",
       "      <th>266</th>\n",
       "      <th>267</th>\n",
       "      <th>268</th>\n",
       "      <th>269</th>\n",
       "      <th>270</th>\n",
       "      <th>271</th>\n",
       "      <th>272</th>\n",
       "      <th>273</th>\n",
       "      <th>274</th>\n",
       "    </tr>\n",
       "  </thead>\n",
       "  <tbody>\n",
       "    <tr>\n",
       "      <th>anio</th>\n",
       "      <td>1996.000000</td>\n",
       "      <td>1996.000000</td>\n",
       "      <td>1996.000000</td>\n",
       "      <td>1996.000000</td>\n",
       "      <td>1996.00000</td>\n",
       "      <td>1996.000000</td>\n",
       "      <td>1996.000000</td>\n",
       "      <td>1996.000000</td>\n",
       "      <td>1996.000000</td>\n",
       "      <td>1996.000000</td>\n",
       "      <td>...</td>\n",
       "      <td>1996.000000</td>\n",
       "      <td>1996.000000</td>\n",
       "      <td>1996.000000</td>\n",
       "      <td>1996.000000</td>\n",
       "      <td>1996.000000</td>\n",
       "      <td>1996.000000</td>\n",
       "      <td>1996.000000</td>\n",
       "      <td>1996.00000</td>\n",
       "      <td>1996.00000</td>\n",
       "      <td>1996.000000</td>\n",
       "    </tr>\n",
       "    <tr>\n",
       "      <th>Prom</th>\n",
       "      <td>23.008071</td>\n",
       "      <td>21.623433</td>\n",
       "      <td>133.844299</td>\n",
       "      <td>24.921645</td>\n",
       "      <td>36.77878</td>\n",
       "      <td>70.606654</td>\n",
       "      <td>38.709923</td>\n",
       "      <td>69.119002</td>\n",
       "      <td>58.876876</td>\n",
       "      <td>82.782055</td>\n",
       "      <td>...</td>\n",
       "      <td>107.644028</td>\n",
       "      <td>195.049164</td>\n",
       "      <td>66.698532</td>\n",
       "      <td>55.756056</td>\n",
       "      <td>180.339171</td>\n",
       "      <td>164.292436</td>\n",
       "      <td>175.054653</td>\n",
       "      <td>630.19355</td>\n",
       "      <td>107.43928</td>\n",
       "      <td>101.346352</td>\n",
       "    </tr>\n",
       "  </tbody>\n",
       "</table>\n",
       "<p>2 rows × 275 columns</p>\n",
       "</div>"
      ],
      "text/plain": [
       "              0            1            2            3           4    \\\n",
       "anio  1996.000000  1996.000000  1996.000000  1996.000000  1996.00000   \n",
       "Prom    23.008071    21.623433   133.844299    24.921645    36.77878   \n",
       "\n",
       "              5            6            7            8            9    ...  \\\n",
       "anio  1996.000000  1996.000000  1996.000000  1996.000000  1996.000000  ...   \n",
       "Prom    70.606654    38.709923    69.119002    58.876876    82.782055  ...   \n",
       "\n",
       "              265          266          267          268          269  \\\n",
       "anio  1996.000000  1996.000000  1996.000000  1996.000000  1996.000000   \n",
       "Prom   107.644028   195.049164    66.698532    55.756056   180.339171   \n",
       "\n",
       "              270          271         272         273          274  \n",
       "anio  1996.000000  1996.000000  1996.00000  1996.00000  1996.000000  \n",
       "Prom   164.292436   175.054653   630.19355   107.43928   101.346352  \n",
       "\n",
       "[2 rows x 275 columns]"
      ]
     },
     "execution_count": 76,
     "metadata": {},
     "output_type": "execute_result"
    }
   ],
   "source": [
    "aux4.head()"
   ]
  },
  {
   "cell_type": "code",
   "execution_count": 87,
   "metadata": {},
   "outputs": [
    {
     "data": {
      "text/plain": [
       "Fecha\n",
       "1996-02-01    13.903167\n",
       "1996-02-02    13.559000\n",
       "1996-02-03    14.524958\n",
       "1996-02-04     7.166917\n",
       "1996-02-05     8.333542\n",
       "Name: Precio, dtype: float64"
      ]
     },
     "execution_count": 87,
     "metadata": {},
     "output_type": "execute_result"
    }
   ],
   "source": [
    "aux1.head()"
   ]
  },
  {
   "cell_type": "markdown",
   "metadata": {},
   "source": [
    "---"
   ]
  },
  {
   "cell_type": "code",
   "execution_count": 88,
   "metadata": {},
   "outputs": [],
   "source": [
    "DatosPorMesPromedio = cinco.copy()\n",
    "DatosPorMesPromedio['Fecha'] = pd.to_datetime(DatosPorMesPromedio['Fecha'])\n",
    "DatosPorMesPromedio['Mes'] =  DatosPorMesPromedio[['Fecha']].apply(lambda x: dt.datetime.strftime(x['Fecha'], '%m'), axis=1)\n",
    "DatosPorMesPromedio['year'] =  DatosPorMesPromedio[['Fecha']].apply(lambda x: dt.datetime.strftime(x['Fecha'], '%Y'), axis=1)\n",
    "DatosPorMesYear = DatosPorMesPromedio.groupby(['Mes','year']).agg({'Precio': np.mean}) \n",
    "DatosPorMesYear.reset_index(inplace=True)\n",
    "DatosPorMesYear.columns = ['Mes','year','PromedioPorMes']\n",
    "\n",
    "DataFramesMerge = pd.merge(DatosPorMesYear, DatosPorMesPromedio, on = ['Mes','year'], how ='inner')\n",
    "\n",
    "DatosPorDia = cinco.copy()\n",
    "DatosPorDia['Fecha'] = pd.to_datetime(DatosPorDia['Fecha'])\n",
    "DatosPorDia = DatosPorDia.groupby('Fecha').agg({'Precio': np.mean}) \n",
    "DatosPorDia.reset_index(inplace=True)\n",
    "DatosPorDia.columns = ['Fecha','PrecioPorDia']\n",
    "\n",
    "DataFramesMerge = pd.merge(DatosPorMesYear, DatosPorMesPromedio, on = ['Mes','year'], how ='inner')\n",
    "DataFramesMerge = pd.merge(DataFramesMerge, DatosPorDia, on = ['Fecha'], how ='inner')\n",
    "DataFrameHaGraficar = DataFramesMerge.groupby('Fecha').agg({'PrecioPorDia': np.mean,'PromedioPorMes': np.mean}) \n"
   ]
  },
  {
   "cell_type": "code",
   "execution_count": 90,
   "metadata": {},
   "outputs": [
    {
     "data": {
      "text/plain": [
       "<matplotlib.legend.Legend at 0x7fdb7ff2eda0>"
      ]
     },
     "execution_count": 90,
     "metadata": {},
     "output_type": "execute_result"
    },
    {
     "data": {
      "text/plain": [
       "<Figure size 1440x1440 with 0 Axes>"
      ]
     },
     "metadata": {},
     "output_type": "display_data"
    },
    {
     "data": {
      "image/png": "[encoded data removed]",
      "text/plain": [
       "<Figure size 432x288 with 1 Axes>"
      ]
     },
     "metadata": {
      "needs_background": "light"
     },
     "output_type": "display_data"
    }
   ],
   "source": [
    "plt.figure(figsize=(20, 20))\n",
    "fig, ax = plt.subplots()\n",
    "ax.plot((DataFrameHaGraficar.index.tolist()), DataFrameHaGraficar['PrecioPorDia'], label=\"Precio promedio por día\")\n",
    "ax.plot((DataFrameHaGraficar.index.tolist()), DataFrameHaGraficar['PromedioPorMes'], label=\"Precio promedio por mes\")\n",
    "plt.xlabel(\"Año\")\n",
    "plt.ylabel(\"Precio\")\n",
    "\n",
    "ax.legend()"
   ]
  }
 ],
 "metadata": {
  "anaconda-cloud": {},
  "kernel_info": {
   "name": "python3"
  },
  "kernelspec": {
   "display_name": "Python 3",
   "language": "python",
   "name": "python3"
  },
  "language_info": {
   "codemirror_mode": {
    "name": "ipython",
    "version": 3
   },
   "file_extension": ".py",
   "mimetype": "text/x-python",
   "name": "python",
   "nbconvert_exporter": "python",
   "pygments_lexer": "ipython3",
   "version": "3.6.7"
  },
  "nteract": {
   "version": "0.7.1"
  }
 },
 "nbformat": 4,
 "nbformat_minor": 2
}
